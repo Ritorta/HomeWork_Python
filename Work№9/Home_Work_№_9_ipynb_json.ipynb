{
  "nbformat": 4,
  "nbformat_minor": 0,
  "metadata": {
    "colab": {
      "provenance": [],
      "include_colab_link": true
    },
    "kernelspec": {
      "name": "python3",
      "display_name": "Python 3"
    },
    "language_info": {
      "name": "python"
    }
  },
  "cells": [
    {
      "cell_type": "markdown",
      "metadata": {
        "id": "view-in-github",
        "colab_type": "text"
      },
      "source": [
        "<a href=\"https://colab.research.google.com/github/Ritorta/HomeWork_Python/blob/master/Home_Work_%E2%84%96_9_ipynb_json.ipynb\" target=\"_parent\"><img src=\"https://colab.research.google.com/assets/colab-badge.svg\" alt=\"Open In Colab\"/></a>"
      ]
    },
    {
      "cell_type": "markdown",
      "source": [
        "# Новый раздел"
      ],
      "metadata": {
        "id": "i7kjU1UtGGEL"
      }
    },
    {
      "cell_type": "code",
      "source": [
        "# Home Work № 9 \n",
        "# Задание 1:\n",
        "# Работать с файлом california_housing_train.csv, \n",
        "# который находится в папке sample_data. \n",
        "# Определить среднюю стоимость дома, где кол-во людей от 0 до 500 (population).\n",
        "\n",
        "import pandas as pd\n",
        "df = pd.read_csv('sample_data/california_housing_test.csv')\n",
        "\n",
        "df[df['population'] < 500]['median_house_value'].median()\n",
        "\n"
      ],
      "metadata": {
        "id": "P3QByMn2SkW9",
        "colab": {
          "base_uri": "https://localhost:8080/"
        },
        "outputId": "967ade8b-90b9-430d-8cfd-21090b0bc6d4"
      },
      "execution_count": null,
      "outputs": [
        {
          "output_type": "execute_result",
          "data": {
            "text/plain": [
              "156300.0"
            ]
          },
          "metadata": {},
          "execution_count": 17
        }
      ]
    },
    {
      "cell_type": "code",
      "source": [
        "# Home Work № 9 \n",
        "# Задание 2:\n",
        "# Работать с файлом california_housing_train.csv, \n",
        "# который находится в папке sample_data. \n",
        "# Узнать какая максимальная households в зоне минимального значения population.\n",
        "\n",
        "import pandas as pd\n",
        "df = pd.read_csv('sample_data/california_housing_test.csv')\n",
        "\n",
        "df[df['population'] ==  df['population'].min()]['households'].max()"
      ],
      "metadata": {
        "colab": {
          "base_uri": "https://localhost:8080/"
        },
        "id": "hK7hgj9XjsJ1",
        "outputId": "092f5202-48d8-4b3c-d86b-dda71056f722"
      },
      "execution_count": null,
      "outputs": [
        {
          "output_type": "execute_result",
          "data": {
            "text/plain": [
              "3.0"
            ]
          },
          "metadata": {},
          "execution_count": 29
        }
      ]
    }
  ]
}